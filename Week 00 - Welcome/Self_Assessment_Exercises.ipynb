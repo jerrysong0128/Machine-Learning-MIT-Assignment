{
  "cells": [
    {
      "cell_type": "markdown",
      "metadata": {
        "colab_type": "text",
        "id": "view-in-github"
      },
      "source": [
        "<a href=\"https://colab.research.google.com/github/denikn/Machine-Learning-MIT-Assignment/blob/main/Week%2000%20-%20Welcome%20to%206.036/Self_Assessment_Exercises.ipynb\" target=\"_parent\"><img src=\"https://colab.research.google.com/assets/colab-badge.svg\" alt=\"Open In Colab\"/></a>"
      ]
    },
    {
      "cell_type": "markdown",
      "metadata": {
        "id": "2zElKWpoOSKg"
      },
      "source": [
        "# 1) Linear Algebra"
      ]
    },
    {
      "cell_type": "markdown",
      "metadata": {
        "id": "RSOD9sxVOc7d"
      },
      "source": [
        "We will be using linear algebra in many places throughout 6.036 to represent and operate on information. Our purpose here is to check your understanding of a few key concepts and skills you'll need. (This is not a complete set -- just a sampling of a few points to help you judge readiness and need for further study!)\n",
        "\n",
        "For the time being we'll be using Python lists to represent vectors and arrays. Once we start in 6.036, we'll be using the Python numpy module, but do not assume you know anything about numpy below."
      ]
    },
    {
      "cell_type": "markdown",
      "metadata": {
        "id": "h7yylKQ2O5B6"
      },
      "source": [
        "## 1.1) Row and column vectors"
      ]
    },
    {
      "cell_type": "markdown",
      "metadata": {
        "id": "M9AQ7EfBPEDu"
      },
      "source": [
        "In this section, we'll consider nn-dimensional column vectors c = \\begin{bmatrix}c_0\\\\ c_1 \\\\ \\vdots \\\\ c_i \\\\ \\vdots \\\\ c_{n-1}\\end{bmatrix} and mm-dimensional row vectors r = \\begin{bmatrix}r_0 & r_1 & \\cdots & r_j &\\cdots & r_{m-1}\\end{bmatrix}, with the subscript indicating the i-th and j-th element within the vector, respectively. In both cases, we'll represent column and row vectors for now as Python lists, so will also be explicit about whether a vector is a row vector or a column vector. For example, we might specify in Python r1 = [2, 4, 7, 1] to be a row vector with four elements, and c1 = [1, 3, -1] to be a column vector with three elements."
      ]
    },
    {
      "cell_type": "markdown",
      "metadata": {
        "id": "2_nZbPYJPKJe"
      },
      "source": [
        "(Q1) Given a = \\begin{bmatrix}1 & 5 & -3 & 2\\end{bmatrix}, and b = \\begin{bmatrix}8 & 2 & 4 & 7\\end{bmatrix}, what is a + ba+b?"
      ]
    },
    {
      "cell_type": "code",
      "execution_count": 1,
      "metadata": {
        "colab": {
          "base_uri": "https://localhost:8080/"
        },
        "id": "gZHHtjk3P6EQ",
        "outputId": "8193008a-375c-4f00-c249-b1bd43ad6b4b"
      },
      "outputs": [
        {
          "name": "stdout",
          "output_type": "stream",
          "text": [
            "[9, 7, 1, 9]\n"
          ]
        }
      ],
      "source": [
        "a = [1,  5,  -3,  2]\n",
        "b = [8, 2, 4, 7]\n",
        "\n",
        "zipped_lists = zip(a, b)\n",
        "c = [x + y for (x, y) in zipped_lists]\n",
        "\n",
        "print(c)"
      ]
    },
    {
      "cell_type": "markdown",
      "metadata": {
        "id": "Tbqhn9IsTrXM"
      },
      "source": [
        "We are given c^{(1)} = \\begin{bmatrix}1 \\\\ 5 \\\\ -3 \\\\ 2\\end{bmatrix}, and c^{(2)} = \\begin{bmatrix}8 \\\\ 2 \\\\ 4 \\\\ 7\\end{bmatrix}Note that the superscript ^{(1)} \n",
        "(1)\n",
        "  just labels the vector, i.e., is part of the name or label for that vector. Thus c^{(1)}c \n",
        "(1)\n",
        "  and c^{(2)}c \n",
        "(2)\n",
        "  are just two different n = 4n=4 length column vectors.\n",
        "\n",
        "  (Q2) What is c^{(1)} + 10c^{(2)}c \n",
        "(1)\n",
        " +10c \n",
        "(2)\n",
        " ?"
      ]
    },
    {
      "cell_type": "code",
      "execution_count": 2,
      "metadata": {
        "colab": {
          "base_uri": "https://localhost:8080/"
        },
        "id": "EWSnB9gbTzhQ",
        "outputId": "9de3ef1a-ec20-4a8e-e5fc-c17ca13d1fcf"
      },
      "outputs": [
        {
          "name": "stdout",
          "output_type": "stream",
          "text": [
            "[81, 25, 37, 72]\n"
          ]
        }
      ],
      "source": [
        "a = [1,  5,  -3,  2]\n",
        "b = [8, 2, 4, 7]\n",
        "\n",
        "zipped_lists = zip(a, b)\n",
        "c = [x + 10*y for (x, y) in zipped_lists]\n",
        "\n",
        "print(c)"
      ]
    },
    {
      "cell_type": "markdown",
      "metadata": {
        "id": "XZ9wGWchVOfe"
      },
      "source": [
        "(Q3) What is c^{(1)}\\ * c^{(2)}c \n",
        "(1)\n",
        "  ∗c \n",
        "(2)\n",
        " ? Here *∗ indicates element-wise multiplication."
      ]
    },
    {
      "cell_type": "code",
      "execution_count": 3,
      "metadata": {
        "colab": {
          "base_uri": "https://localhost:8080/"
        },
        "id": "Hg5WVSAdOKuJ",
        "outputId": "71a6d225-cb54-4028-997e-127e9626bfee"
      },
      "outputs": [
        {
          "name": "stdout",
          "output_type": "stream",
          "text": [
            "[8, 10, -12, 14]\n"
          ]
        }
      ],
      "source": [
        "a = [1,  5,  -3,  2]\n",
        "b = [8, 2, 4, 7]\n",
        "\n",
        "zipped_lists = zip(a, b)\n",
        "c = [x * y for (x, y) in zipped_lists]\n",
        "\n",
        "print(c)"
      ]
    },
    {
      "cell_type": "markdown",
      "metadata": {
        "id": "yxlGAKc0V8wV"
      },
      "source": [
        "The transpose is notated here by the superscript ^T \n",
        "T\n",
        " . For example, if aa is the row vector a = \\begin{bmatrix}1 & 5 & -3 & 2\\end{bmatrix}, then a^Ta \n",
        "T\n",
        "  is the column vector a^T = \\begin{bmatrix}1 \\\\ 5 \\\\ -3 \\\\ 2\\end{bmatrix}\n",
        "\n",
        "  (Q4) Given the vector aa as above and b^T = \\begin{bmatrix}8 & 2 & 4 & 7\\end{bmatrix} what is a+b?"
      ]
    },
    {
      "cell_type": "code",
      "execution_count": 4,
      "metadata": {
        "colab": {
          "base_uri": "https://localhost:8080/"
        },
        "id": "3R7-smKRWeGQ",
        "outputId": "8585efcc-5f52-44dc-ade0-c14af281b92f"
      },
      "outputs": [
        {
          "name": "stdout",
          "output_type": "stream",
          "text": [
            "[9, 7, 1, 9]\n"
          ]
        }
      ],
      "source": [
        "import numpy as np\n",
        "\n",
        "a = [1,  5,  -3,  2]\n",
        "b = [8, 2, 4, 7]\n",
        "\n",
        "b_transpose = np.transpose(b)\n",
        "\n",
        "zipped_lists = zip(a, b_transpose)\n",
        "c = [x + y for (x, y) in zipped_lists]\n",
        "\n",
        "print(c)"
      ]
    },
    {
      "cell_type": "markdown",
      "metadata": {
        "id": "YZDtStOmXMiM"
      },
      "source": [
        "The result should be None because the operation is invalid"
      ]
    },
    {
      "cell_type": "markdown",
      "metadata": {
        "id": "xrD7wuRSXSWj"
      },
      "source": [
        "## 1.2) Vector dot product"
      ]
    },
    {
      "cell_type": "markdown",
      "metadata": {
        "id": "TH7jjlwPXlyH"
      },
      "source": [
        "You should be familiar with vector dot products of vectors. For example, given two column vectors aa and bb, we might be interested in the dot product a \\cdot ba⋅b of those two vectors.\n",
        "\n",
        "Q5) Given a = \\begin{bmatrix}1 & 5 & -3 & 2\\end{bmatrix}^T, and b = \\begin{bmatrix}8 & 2 & 4 & 7\\end{bmatrix}^T, what is a . b?"
      ]
    },
    {
      "cell_type": "code",
      "execution_count": 5,
      "metadata": {
        "colab": {
          "base_uri": "https://localhost:8080/"
        },
        "id": "VXxY3MglX8dB",
        "outputId": "d37ba532-5d97-47e0-c113-6be9a7e8272a"
      },
      "outputs": [
        {
          "name": "stdout",
          "output_type": "stream",
          "text": [
            "The dot product of a and b is 20\n"
          ]
        }
      ],
      "source": [
        "# Define a and b\n",
        "a = [1,  5,  -3,  2]\n",
        "b = [8, 2, 4, 7]\n",
        "\n",
        "def dot(a, b):\n",
        "    # Dot product as sum of list comprehension doing element-wise multiplication\n",
        "    return sum(x_i*y_i for x_i, y_i in zip(a, b))\n",
        "\n",
        "print(\"The dot product of a and b is\", dot(a, b))"
      ]
    },
    {
      "cell_type": "markdown",
      "metadata": {
        "id": "6SrEvJQYZn3k"
      },
      "source": [
        "(Q6) What is a^T ba \n",
        "T\n",
        " b? Enter your result as a Python list (if a vector) or as a Python number (if a single number), or as None if the operation is invalid:"
      ]
    },
    {
      "cell_type": "code",
      "execution_count": 6,
      "metadata": {
        "colab": {
          "base_uri": "https://localhost:8080/"
        },
        "id": "ePDShwajZrMQ",
        "outputId": "0697d148-90c0-4bff-f1b3-81a35a26014b"
      },
      "outputs": [
        {
          "name": "stdout",
          "output_type": "stream",
          "text": [
            "The dot product of a and b is 20\n"
          ]
        }
      ],
      "source": [
        "# Define a and b\n",
        "a_old = [1,  5,  -3,  2]\n",
        "# transpose a\n",
        "a = np.transpose(a_old)\n",
        "b = [8, 2, 4, 7]\n",
        "\n",
        "def dot(a, b):\n",
        "    # Dot product as sum of list comprehension doing element-wise multiplication\n",
        "    return sum(x_i*y_i for x_i, y_i in zip(a, b))\n",
        "\n",
        "print(\"The dot product of a and b is\", dot(a, b))"
      ]
    },
    {
      "cell_type": "markdown",
      "metadata": {
        "id": "BEyruIOZX2N4"
      },
      "source": [
        "## 1.3) 2-D arrays and matrices"
      ]
    },
    {
      "cell_type": "markdown",
      "metadata": {
        "id": "6dTVdaS_aJ2S"
      },
      "source": [
        "For now, we'll represent two-dimensional arrays (or matrices) in Python as a list of lists, i.e., a list of rows. Thus the matrix\n",
        "\n",
        "M = \\begin{bmatrix}1 & 2 & 3 \\\\ -2 & 3 & 7\\end{bmatrix}\n",
        "is an nn x mm dimensional matrix (n = 2n=2 or two rows and m = 3m=3 or three columns in this case), and will have a Python representation as [[1, 2, 3], [-2, 3, 7]]. Matrix and vector multiplication (notably different than element-wise multiplication) is an important operation in linear algebra that you should be familiar with.\n",
        "In the problems below, when we ask for the \"Python value\" of a given matrix multiplication or other operation, enter a Python list if the result is a vector; enter a Python list of lists (list of rows) if the result is a two-dimensional matrix (having more than one rows or columns); enter a single number if the result is a scalar; and if the expression does not result in a valid vector or matrix, enter the Python value None.\n",
        "\n",
        "In addition to MM as defined above, assume we have a vector v = \\begin{bmatrix}1 \\\\ 0 \\\\ -1\\end{bmatrix}"
      ]
    },
    {
      "cell_type": "markdown",
      "metadata": {
        "id": "FpZHWzpMawLL"
      },
      "source": [
        "(Q7) What kind of value is the result of Mv?"
      ]
    },
    {
      "cell_type": "code",
      "execution_count": 7,
      "metadata": {
        "colab": {
          "base_uri": "https://localhost:8080/"
        },
        "id": "H2gO7C1zaY3J",
        "outputId": "55bcf64c-9259-429a-ffa2-ac1b6d213a4b"
      },
      "outputs": [
        {
          "name": "stdout",
          "output_type": "stream",
          "text": [
            "a column vector\n"
          ]
        }
      ],
      "source": [
        "# (Q7) What kind of value is the result of Mv?\n",
        "print(\"a column vector\")"
      ]
    },
    {
      "cell_type": "markdown",
      "metadata": {
        "id": "5S7RiSePayxC"
      },
      "source": [
        "(Q8) What is Mv? Enter your result as a Python value:"
      ]
    },
    {
      "cell_type": "code",
      "execution_count": 8,
      "metadata": {
        "colab": {
          "base_uri": "https://localhost:8080/"
        },
        "id": "ZtOhIulGeCP3",
        "outputId": "c3a734c1-7630-4c32-bf26-fa7ad5357d99"
      },
      "outputs": [
        {
          "name": "stdout",
          "output_type": "stream",
          "text": [
            "[-2 -9]\n"
          ]
        }
      ],
      "source": [
        "# Define M and v\n",
        "M = np.array([[1, 2, 3], [-2, 3, 7]])\n",
        "v = np.array([1, 0, -1])\n",
        "\n",
        "c = M.dot(v)\n",
        "print(c)"
      ]
    },
    {
      "cell_type": "markdown",
      "metadata": {
        "id": "-cHpXlhwfEPV"
      },
      "source": [
        "(Q9) What kind of value is the result of vM?"
      ]
    },
    {
      "cell_type": "code",
      "execution_count": 9,
      "metadata": {
        "colab": {
          "base_uri": "https://localhost:8080/"
        },
        "id": "8gJX6ANZfF7E",
        "outputId": "73cc0249-212a-4a0d-b5d3-27b968fe5f5a"
      },
      "outputs": [
        {
          "name": "stdout",
          "output_type": "stream",
          "text": [
            "An invalid operation\n"
          ]
        }
      ],
      "source": [
        "# Define M and v\n",
        "M = np.array([[1, 2, 3], [-2, 3, 7]])\n",
        "v = np.array([1, 0, -1])\n",
        "\n",
        "# c = v.dot(M)\n",
        "print(\"An invalid operation\")"
      ]
    },
    {
      "cell_type": "markdown",
      "metadata": {
        "id": "Opp01BZVfPcl"
      },
      "source": [
        "(Q10) Given w = \\begin{bmatrix}1 & 5 & -3 & 2\\end{bmatrix}^, and x = \\begin{bmatrix}8 & 2 & 4 & 7\\end{bmatrix}^T, what is w^T xw \n",
        "Tx?"
      ]
    },
    {
      "cell_type": "code",
      "execution_count": 10,
      "metadata": {
        "colab": {
          "base_uri": "https://localhost:8080/"
        },
        "id": "8RBSYE1Tf0N2",
        "outputId": "9fb71605-6584-47aa-b9e2-d509eea02544"
      },
      "outputs": [
        {
          "name": "stdout",
          "output_type": "stream",
          "text": [
            "20\n"
          ]
        }
      ],
      "source": [
        "# Define w and x\n",
        "w_old = np.array([1, 5, -3, 2])\n",
        "w = np.transpose(w_old)\n",
        "x = np.array([8, 2, 4, 7])\n",
        "\n",
        "c = w.dot(x)\n",
        "print(c)"
      ]
    },
    {
      "cell_type": "markdown",
      "metadata": {
        "id": "YREoCWfngW6-"
      },
      "source": [
        "(Q11) Given w = \\begin{bmatrix}1 & 5 & 0\\end{bmatrix}^T, and x = \\begin{bmatrix}8 & 2 \\end{bmatrix}^T, what is w x^Twx \n",
        "T\n",
        " ?"
      ]
    },
    {
      "cell_type": "code",
      "execution_count": 11,
      "metadata": {
        "colab": {
          "base_uri": "https://localhost:8080/"
        },
        "id": "aD4picgsgiEh",
        "outputId": "b1c70c51-8e84-4bfc-bfe8-9af4aa091f03"
      },
      "outputs": [
        {
          "name": "stdout",
          "output_type": "stream",
          "text": [
            "Solution: [[8, 2], [40, 10], [0, 0]]\n"
          ]
        }
      ],
      "source": [
        "# Define w and x\n",
        "w = np.array([1, 5, 0])\n",
        "x_old = np.array([8, 2])\n",
        "x = np.transpose(x_old)\n",
        "\n",
        "# c = w.dot(x)\n",
        "print(\"Solution: [[8, 2], [40, 10], [0, 0]]\")"
      ]
    },
    {
      "cell_type": "markdown",
      "metadata": {
        "id": "0iJgyqeMjv02"
      },
      "source": [
        "Explanation:\n",
        "\n",
        "Since ww is a 3 x 1 vector, and xx is a 2 x 1 vector, we have matrix multiplication of a 3 x 1 with a 1 x 2 vector, resulting in a 3 x 2 matrix. By the rules of matrix multiplication:\n",
        "w x^T = \\begin{bmatrix}8 & 2 \\\\ 40 & 10 \\\\ 0 & 0\\end{bmatrix}If the mechanics of performing the multiplications to generate the elements of the result matrix is not familiar, you should review a linear algebra text or other review materials!)"
      ]
    },
    {
      "cell_type": "markdown",
      "metadata": {
        "id": "BTzhls_qj3jp"
      },
      "source": [
        "(Q12) Which of these is equivalent to (AB)^T\n",
        " ?"
      ]
    },
    {
      "cell_type": "code",
      "execution_count": 12,
      "metadata": {
        "colab": {
          "base_uri": "https://localhost:8080/"
        },
        "id": "ZOKJ8xIqj8vY",
        "outputId": "632e8375-d6d8-47e2-bee2-0ba1858c98de"
      },
      "outputs": [
        {
          "name": "stdout",
          "output_type": "stream",
          "text": [
            "B^T A^T\n"
          ]
        }
      ],
      "source": [
        "print(\"B^T A^T\")"
      ]
    },
    {
      "cell_type": "markdown",
      "metadata": {
        "id": "Ap8Yh9dtkMyY"
      },
      "source": [
        "(Q13) Does the matrix XX below have an inverse?\n",
        "\n",
        "X = \\begin{bmatrix}1 & 3 & 2 \\\\ 2 & 6 & 7\\end{bmatrix}"
      ]
    },
    {
      "cell_type": "code",
      "execution_count": 13,
      "metadata": {
        "colab": {
          "base_uri": "https://localhost:8080/"
        },
        "id": "dJtG1AMUkUBA",
        "outputId": "a34d1ac5-d41d-45ea-bd99-9c12bd09f9ab"
      },
      "outputs": [
        {
          "name": "stdout",
          "output_type": "stream",
          "text": [
            "No\n"
          ]
        }
      ],
      "source": [
        "print(\"No\")"
      ]
    },
    {
      "cell_type": "markdown",
      "metadata": {
        "id": "2EjKLx4QkoR4"
      },
      "source": [
        "(Q14) Does the matrix XX below have an inverse?\n",
        "\n",
        "X = \\begin{bmatrix}1 & 3 & 2 \\\\ 2 & 6 & 7 \\\\ 3 & 9 & 6\\end{bmatrix}"
      ]
    },
    {
      "cell_type": "markdown",
      "metadata": {
        "id": "i_hkGKTck2RY"
      },
      "source": [
        "(Q15) We have the following relationship: Wx = yWx=y. Assuming WW is full rank and square and the dimensions of WW, xx, and yy are appropriate, which of the following expressions gives us a solution for xx?"
      ]
    },
    {
      "cell_type": "code",
      "execution_count": 14,
      "metadata": {
        "colab": {
          "base_uri": "https://localhost:8080/"
        },
        "id": "-0hLJkwik5N0",
        "outputId": "7d6d037f-1e2d-4df7-8762-5a46b3b25605"
      },
      "outputs": [
        {
          "name": "stdout",
          "output_type": "stream",
          "text": [
            "x=W^−1 Wy\n"
          ]
        }
      ],
      "source": [
        "print(\"x=W^−1 Wy\")"
      ]
    },
    {
      "cell_type": "markdown",
      "metadata": {
        "id": "eWtluHT1lPWF"
      },
      "source": [
        "# 2) Differential Calculus (Gradients)"
      ]
    },
    {
      "cell_type": "markdown",
      "metadata": {
        "id": "Rc73tMpilSuF"
      },
      "source": [
        "Let ff be a function that takes a vector v = \\begin{bmatrix}v_1 & v_2 & \\cdots & v_n\\end{bmatrix}^T as input and returns the scalar value 1 \\cdot v_1 + 2 \\cdot v_2 + 3 \\cdot v_3 + \\cdots + n \\cdot v_n1."
      ]
    },
    {
      "cell_type": "markdown",
      "metadata": {
        "id": "ccJzLv2Xlk9C"
      },
      "source": [
        "(Q16) What kind of an object is \\frac{\\partial f(v)}{\\partial v_3} \n",
        "∂v \n",
        "3\n",
        "∂f(v)?"
      ]
    },
    {
      "cell_type": "code",
      "execution_count": 15,
      "metadata": {
        "colab": {
          "base_uri": "https://localhost:8080/"
        },
        "id": "zEV_JTsKlfG2",
        "outputId": "c3829aea-e443-410b-99e8-1601e6eaad2c"
      },
      "outputs": [
        {
          "name": "stdout",
          "output_type": "stream",
          "text": [
            "A scalar\n"
          ]
        }
      ],
      "source": [
        "print(\"A scalar\")"
      ]
    },
    {
      "cell_type": "markdown",
      "metadata": {
        "id": "uKKPFNQHlyjJ"
      },
      "source": [
        "(Q17) What is the value of \\frac{\\partial f(v)}{\\partial v_3} \n",
        "∂v \n",
        "3\n",
        "∂f(v)?"
      ]
    },
    {
      "cell_type": "code",
      "execution_count": 16,
      "metadata": {
        "colab": {
          "base_uri": "https://localhost:8080/"
        },
        "id": "jZEFQcril13_",
        "outputId": "df9c4100-8141-4bae-d9d9-bfac37a45880"
      },
      "outputs": [
        {
          "name": "stdout",
          "output_type": "stream",
          "text": [
            "3\n"
          ]
        }
      ],
      "source": [
        "print(\"3\")"
      ]
    },
    {
      "cell_type": "markdown",
      "metadata": {
        "id": "z9FwJTWJmMJP"
      },
      "source": [
        "(Q18) What kind of an object is \\nabla_v f(v)∇ \n",
        "v f(v)?"
      ]
    },
    {
      "cell_type": "code",
      "execution_count": 17,
      "metadata": {
        "colab": {
          "base_uri": "https://localhost:8080/"
        },
        "id": "EgpyW5_CmOIk",
        "outputId": "52fe1f84-639b-4040-ef69-4f2e996c2b3b"
      },
      "outputs": [
        {
          "name": "stdout",
          "output_type": "stream",
          "text": [
            "a column vector\n"
          ]
        }
      ],
      "source": [
        "print(\"a column vector\")"
      ]
    },
    {
      "cell_type": "markdown",
      "metadata": {
        "id": "DhUIf2-zmWuE"
      },
      "source": [
        "(Q19) What is the value of \\nabla_v f(v)∇ \n",
        "v\n",
        " f(v)?"
      ]
    },
    {
      "cell_type": "code",
      "execution_count": 18,
      "metadata": {
        "colab": {
          "base_uri": "https://localhost:8080/"
        },
        "id": "c5t805KVmYqz",
        "outputId": "06a44a06-ecc3-419c-f096-3b1e2c80c593"
      },
      "outputs": [
        {
          "name": "stdout",
          "output_type": "stream",
          "text": [
            "The column vector [1 2 ... n]^T (consisting of n total elements)\n"
          ]
        }
      ],
      "source": [
        "print(\"The column vector [1 2 ... n]^T (consisting of n total elements)\")"
      ]
    },
    {
      "cell_type": "markdown",
      "metadata": {
        "id": "bhee9Z7tmtle"
      },
      "source": [
        "(Q20) If you dropped a marble down on a (smooth) mountain range whose height over an n-dimensional landscape was given by ff, in what direction would the marble roll?"
      ]
    },
    {
      "cell_type": "code",
      "execution_count": 19,
      "metadata": {
        "colab": {
          "base_uri": "https://localhost:8080/"
        },
        "id": "ZtlR8plhmu9R",
        "outputId": "3dc49c0e-78d6-48fc-b5da-fa7fb968f0f1"
      },
      "outputs": [
        {
          "name": "stdout",
          "output_type": "stream",
          "text": [
            "Most strongly in the negative v_nv n direction\n"
          ]
        }
      ],
      "source": [
        "print(\"Most strongly in the negative v_nv n direction\")"
      ]
    },
    {
      "cell_type": "markdown",
      "metadata": {
        "id": "whrZUK7xm-Z0"
      },
      "source": [
        "# 3) Python"
      ]
    },
    {
      "cell_type": "markdown",
      "metadata": {
        "id": "-WpguAijnCC-"
      },
      "source": [
        "We will also be using Python, and packages built on Python, extensively in 6.036. Here we have a small number of small Python coding problems that you should be able to implement, given adequate prior Python experience."
      ]
    },
    {
      "cell_type": "markdown",
      "metadata": {
        "id": "cLvuJUW6nGq4"
      },
      "source": [
        "## 3.1) Basic functions"
      ]
    },
    {
      "cell_type": "markdown",
      "metadata": {
        "id": "huewOoSbnRjy"
      },
      "source": [
        "Given two lists of numbers, write a procedure that returns a list of the element-wise sum of the number in those two lists. In the following, no imports should be used."
      ]
    },
    {
      "cell_type": "code",
      "execution_count": 39,
      "metadata": {
        "id": "De9ura4dnTql"
      },
      "outputs": [
        {
          "name": "stdout",
          "output_type": "stream",
          "text": [
            "[9, 7, 1, 9]\n"
          ]
        }
      ],
      "source": [
        "def add_two_lists(a, b):\n",
        "    c=[[0 for j in range(len(a))] for i in range(len(a))]\n",
        "    for i in range(len(a)):\n",
        "        c[i]=a[i]+b[i]\n",
        "    return c\n",
        "\n",
        "a = [1,  5,  -3,  2]\n",
        "b = [8, 2, 4, 7]\n",
        "print(add_two_lists(a, b))"
      ]
    },
    {
      "cell_type": "markdown",
      "metadata": {
        "id": "r6Yo0pvxn-9z"
      },
      "source": [
        "Given two column vectors (each represented as a list of numbers), write a procedure dot that returns the (scalar) dot product of two input vectors, each represented as a list of numbers."
      ]
    },
    {
      "cell_type": "code",
      "execution_count": 21,
      "metadata": {
        "id": "wrrx1xrNn_pn"
      },
      "outputs": [],
      "source": [
        "def dot(v1, v2):\n",
        "    return sum(v1[i]*v2[i] for i in range(len(v1)))"
      ]
    },
    {
      "cell_type": "markdown",
      "metadata": {
        "id": "2N56k24BpIz5"
      },
      "source": [
        "## 3.2) Functions as objects"
      ]
    },
    {
      "cell_type": "markdown",
      "metadata": {
        "id": "3B2-jTQXpKAA"
      },
      "source": [
        "Write a function add_n that takes a single numeric argument n, and returns a function. The returned function should take a vector v as an argument and return a new vector with the value for n added to each element of vector v. For example, add_n(10)([1, 5, 3]) should return [11, 15, 13]."
      ]
    },
    {
      "cell_type": "code",
      "execution_count": 37,
      "metadata": {
        "colab": {
          "base_uri": "https://localhost:8080/"
        },
        "id": "QCzI3zO5pMcV",
        "outputId": "f5780878-03bb-43fe-abad-c1ba65f9fe10"
      },
      "outputs": [
        {
          "data": {
            "text/plain": [
              "[11, 15, 13]"
            ]
          },
          "execution_count": 37,
          "metadata": {},
          "output_type": "execute_result"
        }
      ],
      "source": [
        "def add_n(n):\n",
        "    def new_fun(v):\n",
        "        return [elt + n for elt in v]\n",
        "    return new_fun\n",
        "\n",
        "add_n(10)([1,5,3])"
      ]
    },
    {
      "cell_type": "code",
      "execution_count": 23,
      "metadata": {
        "id": "kOdy866hr350"
      },
      "outputs": [],
      "source": [
        "def add_n(n):\n",
        "    def new_fun(v):\n",
        "        return [elt + n for elt in v]\n",
        "    return new_fun"
      ]
    },
    {
      "cell_type": "markdown",
      "metadata": {
        "id": "17Y8Z_JlsQQS"
      },
      "source": [
        "## 3.3) Arrays as lists of lists"
      ]
    },
    {
      "cell_type": "markdown",
      "metadata": {
        "id": "2AM4lCrJsSqM"
      },
      "source": [
        "Write a function array_mult that takes two two-dimensional arrays and performs a matrix multiplication, return a new two-dimensional array. Each array should be represented as a list of lists, i.e., as a list of rows, as discussed earlier. For example,\n",
        ">>> M1 = [[1, 2, 3], [-2, 3, 7]]\n",
        ">>> M2 = [[1,0,0],[0,1,0],[0,0,1]]\n",
        ">>> array_mult(M1, M2)\n",
        "[[1, 2, 3], [-2, 3, 7]]\n",
        "\n",
        ">>> M3 = [[1], [0], [-1]]\n",
        ">>> array_mult(M1, M3)\n",
        "[[-2], [-9]]"
      ]
    },
    {
      "cell_type": "code",
      "execution_count": 24,
      "metadata": {
        "id": "qjtJdYGgsXRK"
      },
      "outputs": [],
      "source": [
        "def array_mult(A, B):\n",
        "    new_list = list(map(A, B))\n",
        "\n",
        "    return new_list\n",
        "    "
      ]
    },
    {
      "cell_type": "code",
      "execution_count": 25,
      "metadata": {
        "id": "cLDNe063tHMg"
      },
      "outputs": [],
      "source": [
        "def array_mult(A, B):\n",
        "    A_n = len(A) \n",
        "    A_m = len(A[0])\n",
        "    B_n = len(B)\n",
        "    B_m = len(B[0])\n",
        "    assert A_m == B_n\n",
        "\n",
        "    R_n = A_n\n",
        "    R_m = B_m\n",
        "    R = [[0 for j in range(R_m)] for i in range(R_n)]\n",
        "\n",
        "    def row(M, r): return M[r]\n",
        "    def col(M, c): return [v[c] for v in M]\n",
        "    def dot(v1, v2): return sum([x*y for x, y in zip(v1, v2)])\n",
        "\n",
        "    for i in range(R_n):\n",
        "        for j in range(R_m):\n",
        "            R[i][j] = dot(row(A,i), col(B,j))\n",
        "    return R"
      ]
    }
  ],
  "metadata": {
    "colab": {
      "authorship_tag": "ABX9TyPTpAY3NuD6o3TTAti6Te5E",
      "include_colab_link": true,
      "name": "Self-Assessment Exercises.ipynb",
      "provenance": []
    },
    "kernelspec": {
      "display_name": "base",
      "language": "python",
      "name": "python3"
    },
    "language_info": {
      "codemirror_mode": {
        "name": "ipython",
        "version": 3
      },
      "file_extension": ".py",
      "mimetype": "text/x-python",
      "name": "python",
      "nbconvert_exporter": "python",
      "pygments_lexer": "ipython3",
      "version": "3.9.13"
    },
    "vscode": {
      "interpreter": {
        "hash": "92838f3e0884e7fad9f3b115327a8e1526994876df9faaa8cd73e7a91a4bc3c3"
      }
    }
  },
  "nbformat": 4,
  "nbformat_minor": 0
}
